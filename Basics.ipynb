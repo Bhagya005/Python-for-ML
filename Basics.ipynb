{
 "cells": [
  {
   "cell_type": "markdown",
   "id": "24caebd8-f10d-4ab2-803d-9b7c41a81b2c",
   "metadata": {},
   "source": [
    "# BASICS OF `PYTHON` PROGRAMMING\n",
    "\n",
    "In this notebook we will explain basic `Python` for Machine Learning."
   ]
  },
  {
   "cell_type": "markdown",
   "id": "bfcb9b48-741d-4f15-a03b-7acb2c212236",
   "metadata": {},
   "source": [
    "## DERIVED DATATYPES IN `PYTHON`"
   ]
  },
  {
   "cell_type": "markdown",
   "id": "a7436859-753e-4dbf-be99-10a35603ff41",
   "metadata": {},
   "source": [
    ">**NOTE:** In Python `int`, `float`, `str`, etc are atomic datatypes and no declaration is required."
   ]
  },
  {
   "cell_type": "markdown",
   "id": "bc5e85ae-6a48-4a37-a5f2-7c90cb0f5f70",
   "metadata": {},
   "source": [
    "## LIST"
   ]
  },
  {
   "cell_type": "code",
   "execution_count": 1,
   "id": "dbd7aada-f746-44e6-b45e-8f23a6fbec8f",
   "metadata": {},
   "outputs": [],
   "source": [
    "my_list=[1,2,3]"
   ]
  },
  {
   "cell_type": "code",
   "execution_count": 2,
   "id": "9bf88b64-33ea-453b-a058-6213c62f933f",
   "metadata": {},
   "outputs": [
    {
     "data": {
      "text/plain": [
       "[1, 2, 3]"
      ]
     },
     "execution_count": 2,
     "metadata": {},
     "output_type": "execute_result"
    }
   ],
   "source": [
    "my_list"
   ]
  },
  {
   "cell_type": "code",
   "execution_count": 3,
   "id": "d621e222-07ec-4016-8933-fc606737e3ea",
   "metadata": {},
   "outputs": [],
   "source": [
    "my_list=[1,'a','c',2,'b']"
   ]
  },
  {
   "cell_type": "code",
   "execution_count": 4,
   "id": "399776c3-af7e-4f12-a9a2-229bb3c754f2",
   "metadata": {},
   "outputs": [
    {
     "data": {
      "text/plain": [
       "[1, 'a', 'c', 2, 'b']"
      ]
     },
     "execution_count": 4,
     "metadata": {},
     "output_type": "execute_result"
    }
   ],
   "source": [
    "my_list\n"
   ]
  },
  {
   "cell_type": "code",
   "execution_count": 5,
   "id": "4fbcb57a-dc00-4a3c-aafa-3efbe72c576d",
   "metadata": {},
   "outputs": [
    {
     "data": {
      "text/plain": [
       "1"
      ]
     },
     "execution_count": 5,
     "metadata": {},
     "output_type": "execute_result"
    }
   ],
   "source": [
    "my_list[0]"
   ]
  },
  {
   "cell_type": "code",
   "execution_count": 7,
   "id": "cb6c210e-1252-4d77-bc44-43f1cd84f2ab",
   "metadata": {},
   "outputs": [],
   "source": [
    "my_list=[1,2,[100,200]]"
   ]
  },
  {
   "cell_type": "code",
   "execution_count": 8,
   "id": "be9de9f2-e5f0-4d06-a4f1-1a904fc687ab",
   "metadata": {},
   "outputs": [
    {
     "data": {
      "text/plain": [
       "[1, 2, [100, 200]]"
      ]
     },
     "execution_count": 8,
     "metadata": {},
     "output_type": "execute_result"
    }
   ],
   "source": [
    "my_list"
   ]
  },
  {
   "cell_type": "code",
   "execution_count": 9,
   "id": "5bfc6d67-2032-44b5-8019-682920617835",
   "metadata": {},
   "outputs": [
    {
     "data": {
      "text/plain": [
       "[100, 200]"
      ]
     },
     "execution_count": 9,
     "metadata": {},
     "output_type": "execute_result"
    }
   ],
   "source": [
    "my_list[2]"
   ]
  },
  {
   "cell_type": "code",
   "execution_count": 10,
   "id": "646579e5-72ec-4719-afa6-0c79bfb86ac4",
   "metadata": {},
   "outputs": [
    {
     "data": {
      "text/plain": [
       "200"
      ]
     },
     "execution_count": 10,
     "metadata": {},
     "output_type": "execute_result"
    }
   ],
   "source": [
    "my_list[2][1]"
   ]
  },
  {
   "cell_type": "code",
   "execution_count": 11,
   "id": "e439d7f4-c965-418a-bcba-d34bde0cb43a",
   "metadata": {},
   "outputs": [],
   "source": [
    "my_list=['a','b','c','d']"
   ]
  },
  {
   "cell_type": "code",
   "execution_count": 13,
   "id": "75b3cb91-7823-4602-9e81-8aedb4645144",
   "metadata": {},
   "outputs": [
    {
     "data": {
      "text/plain": [
       "['a', 'b', 'c']"
      ]
     },
     "execution_count": 13,
     "metadata": {},
     "output_type": "execute_result"
    }
   ],
   "source": [
    "my_list[:3]"
   ]
  },
  {
   "cell_type": "code",
   "execution_count": 14,
   "id": "9b8d9fd1-9d43-4dc7-b6ce-cb2877526b8d",
   "metadata": {},
   "outputs": [],
   "source": [
    "my_list[0]=\"new\""
   ]
  },
  {
   "cell_type": "code",
   "execution_count": 15,
   "id": "25a2ae99-fedb-4621-917c-53ebc7e8d09f",
   "metadata": {},
   "outputs": [
    {
     "data": {
      "text/plain": [
       "['new', 'b', 'c', 'd']"
      ]
     },
     "execution_count": 15,
     "metadata": {},
     "output_type": "execute_result"
    }
   ],
   "source": [
    "my_list"
   ]
  },
  {
   "cell_type": "code",
   "execution_count": 16,
   "id": "ec455f2b-1b75-496a-9b97-493180d369ad",
   "metadata": {},
   "outputs": [],
   "source": [
    "my_list.append('e')"
   ]
  },
  {
   "cell_type": "code",
   "execution_count": 17,
   "id": "1e806e7a-2388-44c0-93ef-5e43e3824178",
   "metadata": {},
   "outputs": [
    {
     "data": {
      "text/plain": [
       "['new', 'b', 'c', 'd', 'e']"
      ]
     },
     "execution_count": 17,
     "metadata": {},
     "output_type": "execute_result"
    }
   ],
   "source": [
    "my_list"
   ]
  },
  {
   "cell_type": "markdown",
   "id": "97da9ac5-af31-4ed8-af95-06d51ded0e86",
   "metadata": {},
   "source": [
    "## TUPLE"
   ]
  },
  {
   "cell_type": "code",
   "execution_count": 18,
   "id": "9f48420e-4d8b-424d-8523-bb6a866c6628",
   "metadata": {},
   "outputs": [],
   "source": [
    "t=(1,2,3)"
   ]
  },
  {
   "cell_type": "code",
   "execution_count": 19,
   "id": "79dced3f-efca-46f6-afb0-64f58fe04ca0",
   "metadata": {},
   "outputs": [
    {
     "data": {
      "text/plain": [
       "(1, 2, 3)"
      ]
     },
     "execution_count": 19,
     "metadata": {},
     "output_type": "execute_result"
    }
   ],
   "source": [
    "t"
   ]
  },
  {
   "cell_type": "code",
   "execution_count": 20,
   "id": "11151bfb-0ca1-4446-908e-e92ce8669add",
   "metadata": {},
   "outputs": [
    {
     "ename": "TypeError",
     "evalue": "'tuple' object does not support item assignment",
     "output_type": "error",
     "traceback": [
      "\u001b[0;31m---------------------------------------------------------------------------\u001b[0m",
      "\u001b[0;31mTypeError\u001b[0m                                 Traceback (most recent call last)",
      "Cell \u001b[0;32mIn[20], line 1\u001b[0m\n\u001b[0;32m----> 1\u001b[0m \u001b[43mt\u001b[49m\u001b[43m[\u001b[49m\u001b[38;5;241;43m0\u001b[39;49m\u001b[43m]\u001b[49m\u001b[38;5;241m=\u001b[39m\u001b[38;5;124m\"\u001b[39m\u001b[38;5;124mnew\u001b[39m\u001b[38;5;124m\"\u001b[39m\n",
      "\u001b[0;31mTypeError\u001b[0m: 'tuple' object does not support item assignment"
     ]
    }
   ],
   "source": [
    "t[0]=\"new\""
   ]
  },
  {
   "cell_type": "markdown",
   "id": "5a03433a-8e4a-4361-8226-6e027bfc6e98",
   "metadata": {},
   "source": [
    "## DICTIONARY"
   ]
  },
  {
   "cell_type": "code",
   "execution_count": 21,
   "id": "a332bbcd-d214-4240-87be-fc3bbb5262a5",
   "metadata": {},
   "outputs": [],
   "source": [
    "d={'NAME':'Bhagya','AGE':20}"
   ]
  },
  {
   "cell_type": "code",
   "execution_count": 22,
   "id": "bc33554f-3c56-454e-8706-de619946d791",
   "metadata": {},
   "outputs": [
    {
     "data": {
      "text/plain": [
       "{'NAME': 'Bhagya', 'AGE': 20}"
      ]
     },
     "execution_count": 22,
     "metadata": {},
     "output_type": "execute_result"
    }
   ],
   "source": [
    "d"
   ]
  },
  {
   "cell_type": "code",
   "execution_count": 25,
   "id": "0555e34f-d319-411e-ba47-d94e50f666f7",
   "metadata": {},
   "outputs": [
    {
     "data": {
      "text/plain": [
       "'Bhagya'"
      ]
     },
     "execution_count": 25,
     "metadata": {},
     "output_type": "execute_result"
    }
   ],
   "source": [
    "d['NAME']"
   ]
  },
  {
   "cell_type": "markdown",
   "id": "efe6e979-7fc3-47b3-8baf-d62dd53a2434",
   "metadata": {},
   "source": [
    "## SET"
   ]
  },
  {
   "cell_type": "code",
   "execution_count": 26,
   "id": "ef54eae0-8988-4522-b788-c6735f7a5ffc",
   "metadata": {},
   "outputs": [
    {
     "data": {
      "text/plain": [
       "{1, 2, 3, 4}"
      ]
     },
     "execution_count": 26,
     "metadata": {},
     "output_type": "execute_result"
    }
   ],
   "source": [
    "{1,2,2,3,4,1,2,3,1,4}"
   ]
  },
  {
   "cell_type": "markdown",
   "id": "bac6e8bc-119d-4b2d-b293-2abe1123129c",
   "metadata": {},
   "source": [
    "## FUNCTION"
   ]
  },
  {
   "cell_type": "code",
   "execution_count": 27,
   "id": "ea88fd25-e463-4e83-8635-4ca55bda1227",
   "metadata": {},
   "outputs": [],
   "source": [
    "def times2(var):\n",
    "    return var*2"
   ]
  },
  {
   "cell_type": "code",
   "execution_count": 28,
   "id": "0e4c06f3-36ce-421e-86ad-d67f4290ba94",
   "metadata": {},
   "outputs": [
    {
     "data": {
      "text/plain": [
       "40"
      ]
     },
     "execution_count": 28,
     "metadata": {},
     "output_type": "execute_result"
    }
   ],
   "source": [
    "times2(20)"
   ]
  },
  {
   "cell_type": "markdown",
   "id": "724e13ce-be04-4bf3-a1fb-d2d87945d050",
   "metadata": {},
   "source": [
    "### lambda"
   ]
  },
  {
   "cell_type": "code",
   "execution_count": 29,
   "id": "b2d45b65-ba58-448d-aaef-f3d868dfc342",
   "metadata": {},
   "outputs": [],
   "source": [
    "times2=lambda var:var*2"
   ]
  },
  {
   "cell_type": "code",
   "execution_count": 30,
   "id": "4d3b0fe1-4c4a-4b43-847f-2a8ef50a17ab",
   "metadata": {},
   "outputs": [
    {
     "name": "stdout",
     "output_type": "stream",
     "text": [
      "4\n"
     ]
    }
   ],
   "source": [
    "print(times2(2))"
   ]
  },
  {
   "cell_type": "code",
   "execution_count": 31,
   "id": "99c9a51f-489e-48b8-adb5-7aa5851640ed",
   "metadata": {},
   "outputs": [],
   "source": [
    "x=[1,2,3,4]"
   ]
  },
  {
   "cell_type": "markdown",
   "id": "4b9960ef-d44b-4ec2-9383-89709e987ab0",
   "metadata": {},
   "source": [
    "## For Loop"
   ]
  },
  {
   "cell_type": "code",
   "execution_count": 33,
   "id": "c7d74146-2da2-4930-a558-9e4ecbc507ab",
   "metadata": {},
   "outputs": [
    {
     "name": "stdout",
     "output_type": "stream",
     "text": [
      "[1, 4, 9, 16]\n"
     ]
    }
   ],
   "source": [
    "out=[]\n",
    "for item in x:\n",
    "    out.append(item**2)\n",
    "print(out)"
   ]
  },
  {
   "cell_type": "code",
   "execution_count": 34,
   "id": "2aa741c7-e88f-4af2-9581-788573c2428a",
   "metadata": {},
   "outputs": [
    {
     "data": {
      "text/plain": [
       "[1, 4, 9, 16]"
      ]
     },
     "execution_count": 34,
     "metadata": {},
     "output_type": "execute_result"
    }
   ],
   "source": [
    "[item**2 for item in x"
   ]
  },
  {
   "cell_type": "markdown",
   "id": "22705554-d1d7-446f-94b4-e11bcf8d2fe6",
   "metadata": {},
   "source": [
    "## Print with Format"
   ]
  },
  {
   "cell_type": "code",
   "execution_count": 37,
   "id": "175179e6-da92-41c7-814d-e236c6f3e43b",
   "metadata": {},
   "outputs": [
    {
     "name": "stdout",
     "output_type": "stream",
     "text": [
      "My name is:Akshara, my no. is:10\n"
     ]
    }
   ],
   "source": [
    "print(\"My name is:{0}, my no. is:{1}\".format(\"Akshara\",10))"
   ]
  },
  {
   "cell_type": "code",
   "execution_count": 38,
   "id": "5f74563c-c4d9-4e09-add5-d22ed5043085",
   "metadata": {},
   "outputs": [],
   "source": [
    "num=12\n",
    "name='Sam'"
   ]
  },
  {
   "cell_type": "code",
   "execution_count": 39,
   "id": "93d88026-fe77-4dd7-8f4e-62b51fbc1829",
   "metadata": {},
   "outputs": [
    {
     "name": "stdout",
     "output_type": "stream",
     "text": [
      "My no. is:12, my name is:Sam\n"
     ]
    }
   ],
   "source": [
    "print(\"My no. is:{one}, my name is:{two}\".format(one=num,two=name))"
   ]
  },
  {
   "cell_type": "code",
   "execution_count": null,
   "id": "d16aeac1-032e-4a61-b5ec-2fa40fdd1e30",
   "metadata": {},
   "outputs": [],
   "source": []
  }
 ],
 "metadata": {
  "kernelspec": {
   "display_name": "Python 3 (Intel® oneAPI 2023.2)",
   "language": "python",
   "name": "c009-intel_distribution_of_python_3_oneapi-beta05-python"
  },
  "language_info": {
   "codemirror_mode": {
    "name": "ipython",
    "version": 3
   },
   "file_extension": ".py",
   "mimetype": "text/x-python",
   "name": "python",
   "nbconvert_exporter": "python",
   "pygments_lexer": "ipython3",
   "version": "3.9.16"
  }
 },
 "nbformat": 4,
 "nbformat_minor": 5
}
